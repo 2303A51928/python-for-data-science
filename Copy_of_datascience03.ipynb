{
  "nbformat": 4,
  "nbformat_minor": 0,
  "metadata": {
    "colab": {
      "provenance": [],
      "authorship_tag": "ABX9TyP5+BwvTlJX94C/aOw08qqj",
      "include_colab_link": true
    },
    "kernelspec": {
      "name": "python3",
      "display_name": "Python 3"
    },
    "language_info": {
      "name": "python"
    }
  },
  "cells": [
    {
      "cell_type": "markdown",
      "metadata": {
        "id": "view-in-github",
        "colab_type": "text"
      },
      "source": [
        "<a href=\"https://colab.research.google.com/github/arnav-116/python-for-data-science/blob/main/Copy_of_datascience03.ipynb\" target=\"_parent\"><img src=\"https://colab.research.google.com/assets/colab-badge.svg\" alt=\"Open In Colab\"/></a>"
      ]
    },
    {
      "cell_type": "code",
      "execution_count": null,
      "metadata": {
        "id": "jwQQGP8b_BYS"
      },
      "outputs": [],
      "source": [
        "import numpy as np\n",
        "import pandas as pd"
      ]
    },
    {
      "cell_type": "code",
      "source": [
        "temps_celsius = np.array([15.2, 16.8, 20.1, 25.3, 30.5, 33.0, 32.8, 31.4, 28.0, 23.5, 18.2, 16.0])\n",
        "months = np.array(['Jan', 'Feb', 'Mar', 'Apr', 'May', 'Jun', 'Jul', 'Aug', 'Sep', 'Oct', 'Nov', 'Dec'])\n"
      ],
      "metadata": {
        "id": "HKz588PHAG4L"
      },
      "execution_count": null,
      "outputs": []
    },
    {
      "cell_type": "code",
      "source": [
        "df = pd.DataFrame({\n",
        "    'Month': months,\n",
        "    'Temp_C': temps_celsius\n",
        "})"
      ],
      "metadata": {
        "id": "tg3hrxSsAs7p"
      },
      "execution_count": null,
      "outputs": []
    },
    {
      "cell_type": "code",
      "source": [
        "average_temp = df['Temp_C'].mean()"
      ],
      "metadata": {
        "id": "GRF9SMJJA9NC"
      },
      "execution_count": null,
      "outputs": []
    },
    {
      "cell_type": "code",
      "source": [
        "hottest_month = df.loc[df['Temp_C'].idxmax()]\n",
        "coldest_month = df.loc[df['Temp_C'].idxmin()]"
      ],
      "metadata": {
        "id": "9QvG3x5UA_Lm"
      },
      "execution_count": null,
      "outputs": []
    },
    {
      "cell_type": "code",
      "source": [
        "df['Normalized'] = (df['Temp_C'] - df['Temp_C'].min()) / (df['Temp_C'].max() - df['Temp_C'].min())"
      ],
      "metadata": {
        "id": "1tkRMCiVBT9y"
      },
      "execution_count": null,
      "outputs": []
    },
    {
      "cell_type": "code",
      "source": [
        "df['Temp_F'] = df['Temp_C'] * 9/5 + 32"
      ],
      "metadata": {
        "id": "Y6igPWGHBWcZ"
      },
      "execution_count": null,
      "outputs": []
    },
    {
      "cell_type": "code",
      "source": [
        "df['Above_Avg'] = df['Temp_C'] > average_temp"
      ],
      "metadata": {
        "id": "L5ZRl12uBuQZ"
      },
      "execution_count": null,
      "outputs": []
    },
    {
      "cell_type": "code",
      "source": [
        "print(\"📊 Temperature Metrics\")\n",
        "print(f\"Average Temperature: {average_temp:.2f}°C\")\n",
        "print(f\"Hottest Month: {hottest_month['Month']} ({hottest_month['Temp_C']}°C)\")\n",
        "print(f\"Coldest Month: {coldest_month['Month']} ({coldest_month['Temp_C']}°C)\")\n",
        "print(\"\\n📋 Full Data Table:\")\n",
        "print(df)"
      ],
      "metadata": {
        "colab": {
          "base_uri": "https://localhost:8080/"
        },
        "id": "bverHWw3Bv0z",
        "outputId": "1102eaa4-470b-4ce9-dc9b-cda5255e4240"
      },
      "execution_count": null,
      "outputs": [
        {
          "output_type": "stream",
          "name": "stdout",
          "text": [
            "📊 Temperature Metrics\n",
            "Average Temperature: 24.23°C\n",
            "Hottest Month: Jun (33.0°C)\n",
            "Coldest Month: Jan (15.2°C)\n",
            "\n",
            "📋 Full Data Table:\n",
            "   Month  Temp_C  Normalized  Temp_F  Above_Avg\n",
            "0    Jan    15.2    0.000000   59.36      False\n",
            "1    Feb    16.8    0.089888   62.24      False\n",
            "2    Mar    20.1    0.275281   68.18      False\n",
            "3    Apr    25.3    0.567416   77.54       True\n",
            "4    May    30.5    0.859551   86.90       True\n",
            "5    Jun    33.0    1.000000   91.40       True\n",
            "6    Jul    32.8    0.988764   91.04       True\n",
            "7    Aug    31.4    0.910112   88.52       True\n",
            "8    Sep    28.0    0.719101   82.40       True\n",
            "9    Oct    23.5    0.466292   74.30      False\n",
            "10   Nov    18.2    0.168539   64.76      False\n",
            "11   Dec    16.0    0.044944   60.80      False\n"
          ]
        }
      ]
    }
  ]
}