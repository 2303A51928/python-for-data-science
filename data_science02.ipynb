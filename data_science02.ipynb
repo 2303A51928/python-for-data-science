{
  "nbformat": 4,
  "nbformat_minor": 0,
  "metadata": {
    "colab": {
      "provenance": [],
      "authorship_tag": "ABX9TyMAG3bFi5+S0au+ex2TTAAR",
      "include_colab_link": true
    },
    "kernelspec": {
      "name": "python3",
      "display_name": "Python 3"
    },
    "language_info": {
      "name": "python"
    }
  },
  "cells": [
    {
      "cell_type": "markdown",
      "metadata": {
        "id": "view-in-github",
        "colab_type": "text"
      },
      "source": [
        "<a href=\"https://colab.research.google.com/github/arnav-116/python-for-data-science/blob/main/data_science02.ipynb\" target=\"_parent\"><img src=\"https://colab.research.google.com/assets/colab-badge.svg\" alt=\"Open In Colab\"/></a>"
      ]
    },
    {
      "cell_type": "code",
      "execution_count": 3,
      "metadata": {
        "id": "UK4Iglyk5xuH"
      },
      "outputs": [],
      "source": [
        "import numpy as np\n",
        "import pandas as pd\n"
      ]
    },
    {
      "cell_type": "code",
      "source": [
        "arr = np.array([10,20,30,40,50])\n",
        "print('Original Array:',arr)"
      ],
      "metadata": {
        "id": "GVnCY1SQ6Vgy",
        "colab": {
          "base_uri": "https://localhost:8080/"
        },
        "outputId": "24bcc375-03e5-4268-c8be-b2c9172377fc"
      },
      "execution_count": 5,
      "outputs": [
        {
          "output_type": "stream",
          "name": "stdout",
          "text": [
            "Original Array: [10 20 30 40 50]\n"
          ]
        }
      ]
    },
    {
      "cell_type": "code",
      "source": [
        "arr + 5"
      ],
      "metadata": {
        "colab": {
          "base_uri": "https://localhost:8080/"
        },
        "id": "wSniCbaa7GrO",
        "outputId": "a3c246dc-726c-4a71-a016-b8da17ae1cb8"
      },
      "execution_count": 6,
      "outputs": [
        {
          "output_type": "execute_result",
          "data": {
            "text/plain": [
              "array([15, 25, 35, 45, 55])"
            ]
          },
          "metadata": {},
          "execution_count": 6
        }
      ]
    },
    {
      "cell_type": "code",
      "source": [
        "arr*2\n"
      ],
      "metadata": {
        "colab": {
          "base_uri": "https://localhost:8080/"
        },
        "id": "c-57uwzc7RKC",
        "outputId": "f978af2d-d1a8-4d64-a8a9-c307f285618e"
      },
      "execution_count": 7,
      "outputs": [
        {
          "output_type": "execute_result",
          "data": {
            "text/plain": [
              "array([ 20,  40,  60,  80, 100])"
            ]
          },
          "metadata": {},
          "execution_count": 7
        }
      ]
    },
    {
      "cell_type": "code",
      "source": [
        "arr[arr>25]"
      ],
      "metadata": {
        "colab": {
          "base_uri": "https://localhost:8080/"
        },
        "id": "mNd9kvc67dme",
        "outputId": "dd66e90a-d812-47bc-8a71-c0957d1987ff"
      },
      "execution_count": 8,
      "outputs": [
        {
          "output_type": "execute_result",
          "data": {
            "text/plain": [
              "array([30, 40, 50])"
            ]
          },
          "metadata": {},
          "execution_count": 8
        }
      ]
    },
    {
      "cell_type": "code",
      "source": [
        "data = {'Name': ['Alice', 'Bob', 'Charlie', 'David'],'Age': [25, 30, 35, 40], 'Score': [85.5, 92.0, 88.0, 76.5 ]}"
      ],
      "metadata": {
        "id": "AmlvtSkM9u2W"
      },
      "execution_count": 15,
      "outputs": []
    },
    {
      "cell_type": "code",
      "source": [
        "df = pd.DataFrame(data)\n",
        "print(\"\\nOrginal Dataframe\\n\",df)"
      ],
      "metadata": {
        "colab": {
          "base_uri": "https://localhost:8080/"
        },
        "id": "C7-DZjE68SFY",
        "outputId": "ee960469-7758-45d1-9b1c-a1aa5a5d5dda"
      },
      "execution_count": 12,
      "outputs": [
        {
          "output_type": "stream",
          "name": "stdout",
          "text": [
            "\n",
            "Orginal Dataframe\n",
            "       Name   Age  Score\n",
            "0    Alice  25.3   85.5\n",
            "1      Bob  30.0   92.0\n",
            "2  Charlie  35.0   88.0\n",
            "3    David  40.0   76.5\n"
          ]
        }
      ]
    },
    {
      "cell_type": "code",
      "source": [
        "df['Passed'] = df['Score'] >= 80\n",
        "print(\"\\nDataFrame with 'Passed' column:\\n\", df)"
      ],
      "metadata": {
        "colab": {
          "base_uri": "https://localhost:8080/"
        },
        "id": "oJu2BxDo8xPX",
        "outputId": "f34d8af8-4511-463f-94d0-c2f76a18392e"
      },
      "execution_count": 16,
      "outputs": [
        {
          "output_type": "stream",
          "name": "stdout",
          "text": [
            "\n",
            "DataFrame with 'Passed' column:\n",
            "       Name   Age  Score  Passed\n",
            "0    Alice  25.3   85.5    True\n",
            "1      Bob  30.0   92.0    True\n",
            "2  Charlie  35.0   88.0    True\n",
            "3    David  40.0   76.5   False\n"
          ]
        }
      ]
    },
    {
      "cell_type": "code",
      "source": [
        "older_students = df[df['Age'] > 30]\n",
        "print(\"\\nStudents older than 30:\\n\", older_students )"
      ],
      "metadata": {
        "colab": {
          "base_uri": "https://localhost:8080/"
        },
        "id": "uhimJlAi-HAP",
        "outputId": "db83ba1a-8f27-4938-cce2-f0719741c0ad"
      },
      "execution_count": 17,
      "outputs": [
        {
          "output_type": "stream",
          "name": "stdout",
          "text": [
            "\n",
            "Students older than 30:\n",
            "       Name   Age  Score  Passed\n",
            "2  Charlie  35.0   88.0    True\n",
            "3    David  40.0   76.5   False\n"
          ]
        }
      ]
    },
    {
      "cell_type": "code",
      "source": [
        "average_score = df['Score'].mean()\n",
        "print(\"\\nAverage Score:\", average_score )"
      ],
      "metadata": {
        "colab": {
          "base_uri": "https://localhost:8080/"
        },
        "id": "Kincwl_9-KJc",
        "outputId": "aadf4192-63da-4f27-907b-96f5c70a4411"
      },
      "execution_count": 18,
      "outputs": [
        {
          "output_type": "stream",
          "name": "stdout",
          "text": [
            "\n",
            "Average Score: 85.5\n"
          ]
        }
      ]
    },
    {
      "cell_type": "code",
      "source": [],
      "metadata": {
        "id": "5bFt24qa-O45"
      },
      "execution_count": null,
      "outputs": []
    }
  ]
}